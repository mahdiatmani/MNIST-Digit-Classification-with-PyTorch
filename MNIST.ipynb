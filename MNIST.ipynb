{
 "cells": [
  {
   "cell_type": "markdown",
   "metadata": {
    "id": "RCcXx4PDPIQz"
   },
   "source": [
    "# Step 1: Libraries and Data Loading"
   ]
  },
  {
   "cell_type": "code",
   "execution_count": 1,
   "metadata": {
    "id": "23oaLmdPLs74"
   },
   "outputs": [],
   "source": [
    "import torch\n",
    "import torch.nn as nn\n",
    "import numpy as np\n",
    "import pandas as pd\n",
    "import matplotlib.pyplot as plt\n",
    "from sklearn.model_selection import train_test_split\n",
    "from torch.utils.data import DataLoader, random_split, TensorDataset\n",
    "import torch.optim as optim\n",
    "\n",
    "\n",
    "def unpickle(file):\n",
    "    import pickle\n",
    "    with open(file, 'rb') as fo:\n",
    "        data_dict = pickle.load(fo, encoding='bytes')\n",
    "    return data_dict\n",
    "\n"
   ]
  },
  {
   "cell_type": "code",
   "execution_count": 2,
   "metadata": {
    "id": "3n5hYGFdLvjJ"
   },
   "outputs": [],
   "source": [
    "qmnist = unpickle(\"MNIST-120k\")"
   ]
  },
  {
   "cell_type": "code",
   "execution_count": 3,
   "metadata": {
    "colab": {
     "base_uri": "https://localhost:8080/"
    },
    "id": "s70S54stTR4w",
    "outputId": "2538a7a4-29f9-4597-c8ab-992de9e5fe48"
   },
   "outputs": [
    {
     "data": {
      "text/plain": [
       "((120000, 28, 28), (120000, 1))"
      ]
     },
     "execution_count": 3,
     "metadata": {},
     "output_type": "execute_result"
    }
   ],
   "source": [
    "X  = qmnist['data']\n",
    "y = qmnist['labels']\n",
    "X.shape, y.shape"
   ]
  },
  {
   "cell_type": "code",
   "execution_count": 4,
   "metadata": {
    "colab": {
     "base_uri": "https://localhost:8080/",
     "height": 192
    },
    "id": "x8V2ijq4Tqfj",
    "outputId": "1921a83d-5e8a-41de-b642-ba78a1d90f75"
   },
   "outputs": [
    {
     "data": {
      "image/png": "[encoded data removed]",
      "text/plain": [
       "<Figure size 1000x200 with 5 Axes>"
      ]
     },
     "metadata": {},
     "output_type": "display_data"
    }
   ],
   "source": [
    "def plot_images(X, y, num_images=5):\n",
    "    images = X.reshape(-1, 28, 28)\n",
    "\n",
    "    fig, axes = plt.subplots(1, num_images, figsize=(10, 2))\n",
    "    for i, ax in enumerate(axes):\n",
    "        ax.imshow(images[i], cmap='gray')\n",
    "        ax.axis('off')\n",
    "        ax.set_title(f'Label: {y[i]}')\n",
    "\n",
    "plot_images(X, y)\n",
    "plt.show()\n"
   ]
  },
  {
   "cell_type": "markdown",
   "metadata": {
    "id": "myu3LtpJPZgp"
   },
   "source": [
    "# Step 2: Data Processing\n"
   ]
  },
  {
   "cell_type": "markdown",
   "metadata": {
    "id": "1i5hQyNzefTM"
   },
   "source": [
    "##Data Normalization\n",
    "We use the following formula to normalize data. The min() and max() values are the possible minimum and maximum values supported within the type of data.\n",
    "\n",
    "![image.png](data:image/png;base64,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)"
   ]
  },
  {
   "cell_type": "code",
   "execution_count": 5,
   "metadata": {
    "colab": {
     "base_uri": "https://localhost:8080/"
    },
    "id": "QZY1RX-fUnWf",
    "outputId": "e69cd55d-f21f-41a4-e7e6-b65858873c35"
   },
   "outputs": [
    {
     "name": "stdout",
     "output_type": "stream",
     "text": [
      "Train min=0.000, max=255.000\n",
      "Train min=0.000, max=9.000\n",
      "torch.Size([120000, 28, 28]) torch.Size([120000, 1])\n"
     ]
    }
   ],
   "source": [
    "X = torch.tensor(qmnist['data'], dtype=torch.float32)\n",
    "y = torch.tensor(qmnist['labels'], dtype=torch.long)\n",
    "dataset = TensorDataset(X, y)\n",
    "# confirming scale of pixel values\n",
    "print('Train min=%.3f, max=%.3f' % (X.min(), X.max()))\n",
    "print('Train min=%.3f, max=%.3f' % (y.min(), y.max()))\n",
    "\n",
    "print(X.shape, y.shape)\n"
   ]
  },
  {
   "cell_type": "code",
   "execution_count": 6,
   "metadata": {
    "colab": {
     "base_uri": "https://localhost:8080/"
    },
    "id": "Jp1X2XD1fS2T",
    "outputId": "3a98a0c9-db89-44f9-de98-fb6db0e4b02b"
   },
   "outputs": [
    {
     "data": {
      "text/plain": [
       "torch.Size([120000, 28, 28])"
      ]
     },
     "execution_count": 6,
     "metadata": {},
     "output_type": "execute_result"
    }
   ],
   "source": [
    "for i in range(X.shape[0]):\n",
    "    X[i] = (X[i] - X[i].min()) / (X[i].max() - X[i].min())\n",
    "X.shape"
   ]
  },
  {
   "cell_type": "code",
   "execution_count": 7,
   "metadata": {
    "colab": {
     "base_uri": "https://localhost:8080/"
    },
    "id": "IOeeo4RbfA7P",
    "outputId": "e790aab0-e4c7-486b-fe6f-61273d1c2d63"
   },
   "outputs": [
    {
     "name": "stdout",
     "output_type": "stream",
     "text": [
      "Training set size: 84000 Train set ratio: 70.0%\n",
      "Validation set size: 18000 Validation set ratio: 15.0%\n",
      "Test set size: 18000 Test set ratio: 15.0%\n"
     ]
    }
   ],
   "source": [
    "train_size = int(0.7 * len(dataset))\n",
    "val_size = int(0.15 * len(dataset))\n",
    "test_size = len(dataset) - train_size - val_size\n",
    "\n",
    "train_dataset, val_dataset, test_dataset = random_split(dataset, [train_size, val_size, test_size])\n",
    "\n",
    "batch_size = 32\n",
    "\n",
    "train_loader = DataLoader(train_dataset, batch_size=batch_size, shuffle=True)\n",
    "val_loader = DataLoader(val_dataset, batch_size=batch_size, shuffle=False)\n",
    "test_loader = DataLoader(test_dataset, batch_size=batch_size, shuffle=False)\n",
    "\n",
    "print(f\"Training set size: {len(train_dataset)}\", f\"Train set ratio: {len(train_dataset) / len(dataset)*100}%\")\n",
    "print(f\"Validation set size: {len(val_dataset)}\", f\"Validation set ratio: {len(val_dataset) / len(dataset)*100}%\")\n",
    "print(f\"Test set size: {len(test_dataset)}\", f\"Test set ratio: {len(test_dataset) / len(dataset)*100}%\")\n",
    "\n"
   ]
  },
  {
   "cell_type": "code",
   "execution_count": 8,
   "metadata": {
    "colab": {
     "base_uri": "https://localhost:8080/"
    },
    "id": "5pkxONtVfWcT",
    "outputId": "c197510e-72b1-49a3-c466-91e5b6c2bb56"
   },
   "outputs": [
    {
     "name": "stdout",
     "output_type": "stream",
     "text": [
      "Train min=0.000, max=1.000\n",
      "Train min=0.000, max=9.000\n",
      "torch.Size([120000, 28, 28]) torch.Size([120000, 1])\n"
     ]
    }
   ],
   "source": [
    "# confirming scale of pixel values\n",
    "print('Train min=%.3f, max=%.3f' % (X.min(), X.max()))\n",
    "print('Train min=%.3f, max=%.3f' % (y.min(), y.max()))\n",
    "\n",
    "print(X.shape, y.shape)\n"
   ]
  },
  {
   "cell_type": "markdown",
   "metadata": {
    "id": "MdwoxLpap59K"
   },
   "source": [
    "#Step 3: Building the Neural Network"
   ]
  },
  {
   "cell_type": "code",
   "execution_count": 9,
   "metadata": {
    "id": "IfU_buz7vCq5"
   },
   "outputs": [],
   "source": [
    "model = nn.Sequential(nn.Linear(28 * 28, 128),\n",
    "                      nn.ReLU(),\n",
    "                      nn.Linear(128, 64),\n",
    "                      nn.ReLU(),\n",
    "                      nn.Linear(64, 10))"
   ]
  },
  {
   "cell_type": "markdown",
   "metadata": {
    "id": "r-oCu8WRFahI"
   },
   "source": [
    "##Define a Loss function and optimizer\n",
    "\n",
    "\n",
    "Let’s use a Classification Cross-Entropy loss and SGD with momentum."
   ]
  },
  {
   "cell_type": "code",
   "execution_count": 10,
   "metadata": {
    "id": "YY9hDeqnFYaj"
   },
   "outputs": [],
   "source": [
    "criterion = nn.CrossEntropyLoss()\n",
    "optimizer = optim.SGD(model.parameters(), lr=0.001, momentum=0.9)"
   ]
  },
  {
   "cell_type": "code",
   "execution_count": 11,
   "metadata": {
    "id": "mjZvgRWuHC6D"
   },
   "outputs": [],
   "source": [
    "epochs = 15\n",
    "for e in range(epochs):\n",
    "    model.train()\n",
    "    running_train_loss = 0\n",
    "    for images, labels in train_loader:\n",
    "        images = images.view(images.shape[0], -1)\n",
    "        labels = labels.squeeze(1)\n",
    "\n",
    "        optimizer.zero_grad()\n",
    "\n",
    "        output = model(images)\n",
    "        loss = criterion(output, labels)\n",
    "        loss.backward()\n",
    "        optimizer.step()\n",
    "\n",
    "        running_train_loss += loss.item()"
   ]
  },
  {
   "cell_type": "code",
   "execution_count": 12,
   "metadata": {
    "colab": {
     "base_uri": "https://localhost:8080/"
    },
    "id": "zGFaAy01LovI",
    "outputId": "b26bce2c-e835-4f12-a717-95fb6d870e7e"
   },
   "outputs": [
    {
     "name": "stdout",
     "output_type": "stream",
     "text": [
      "Epoch 15/15\n",
      "Training loss: 0.0807\n",
      "Validation loss: 0.0950\n",
      "Validation accuracy: 0.9722\n"
     ]
    }
   ],
   "source": [
    "model.eval()\n",
    "running_val_loss = 0\n",
    "val_accuracy = 0\n",
    "with torch.no_grad():\n",
    "  for images, labels in val_loader:\n",
    "            images = images.view(images.shape[0], -1)\n",
    "            labels = labels.squeeze()\n",
    "\n",
    "            output = model(images)\n",
    "            val_loss = criterion(output, labels)\n",
    "            running_val_loss += val_loss.item()\n",
    "\n",
    "            _, top_class = torch.max(output, 1)\n",
    "            equals = top_class == labels.view(*top_class.shape)\n",
    "            val_accuracy += torch.mean(equals.type(torch.FloatTensor))\n",
    "print(f\"Epoch {e+1}/{epochs}\")\n",
    "print(f\"Training loss: {running_train_loss/len(train_loader):.4f}\")\n",
    "print(f\"Validation loss: {running_val_loss/len(val_loader):.4f}\")\n",
    "print(f\"Validation accuracy: {val_accuracy/len(val_loader):.4f}\")"
   ]
  },
  {
   "cell_type": "code",
   "execution_count": 13,
   "metadata": {
    "colab": {
     "base_uri": "https://localhost:8080/"
    },
    "id": "hgqMo7dpIEWm",
    "outputId": "c710a6c1-57bf-4032-a1d1-de07463a7e8f"
   },
   "outputs": [
    {
     "name": "stdout",
     "output_type": "stream",
     "text": [
      "Final Test Accuracy: 0.97\n"
     ]
    }
   ],
   "source": [
    "model.eval()\n",
    "with torch.no_grad():\n",
    "    accuracy = 0\n",
    "    for images, labels in test_loader:\n",
    "        images = images.view(images.shape[0], -1)\n",
    "        log_ps = model(images)\n",
    "        _, top_class = torch.max(log_ps, 1)\n",
    "        equals = top_class == labels.view(*top_class.shape)\n",
    "        accuracy += torch.mean(equals.type(torch.FloatTensor))\n",
    "    print(f\"Final Test Accuracy: {accuracy / len(test_loader):.2f}\")"
   ]
  },
  {
   "cell_type": "code",
   "execution_count": 14,
   "metadata": {
    "colab": {
     "base_uri": "https://localhost:8080/",
     "height": 479
    },
    "id": "hTC7RPvHJ6ob",
    "outputId": "a0e5d130-508f-4365-9887-2f131b2464dc"
   },
   "outputs": [
    {
     "data": {
      "image/png": "[encoded data removed]",
      "text/plain": [
       "<Figure size 500x500 with 1 Axes>"
      ]
     },
     "metadata": {},
     "output_type": "display_data"
    },
    {
     "name": "stdout",
     "output_type": "stream",
     "text": [
      "Predicted Digit: 2\n",
      "True Label: tensor([2])\n"
     ]
    }
   ],
   "source": [
    "import random\n",
    "val =random.randint(0,120000)\n",
    "single_image = X[val]\n",
    "\n",
    "displayed_image = single_image.reshape(28, 28)\n",
    "\n",
    "plt.figure(figsize=(5,5))\n",
    "plt.imshow(displayed_image, cmap='gray')\n",
    "plt.title('Original Image')\n",
    "plt.axis('off')\n",
    "plt.show()\n",
    "\n",
    "def test_single_image(model, image):\n",
    "    image = (image - image.min()) / (image.max() - image.min())\n",
    "    image = image.view(1, -1)\n",
    "\n",
    "    model.eval()\n",
    "    with torch.no_grad():\n",
    "        output = model(image)\n",
    "        _, predicted = torch.max(output, 1)\n",
    "\n",
    "    return predicted.item()\n",
    "\n",
    "prediction = test_single_image(model, single_image)\n",
    "print(f\"Predicted Digit: {prediction}\")\n",
    "print(f\"True Label: {y[val]}\")"
   ]
  },
  {
   "cell_type": "code",
   "execution_count": 15,
   "metadata": {},
   "outputs": [],
   "source": [
    "torch.save(model.state_dict(), \"mnist_model.pth\")"
   ]
  }
 ],
 "metadata": {
  "colab": {
   "provenance": []
  },
  "kernelspec": {
   "display_name": "Python 3",
   "name": "python3"
  },
  "language_info": {
   "codemirror_mode": {
    "name": "ipython",
    "version": 3
   },
   "file_extension": ".py",
   "mimetype": "text/x-python",
   "name": "python",
   "nbconvert_exporter": "python",
   "pygments_lexer": "ipython3",
   "version": "3.12.8"
  }
 },
 "nbformat": 4,
 "nbformat_minor": 0
}
